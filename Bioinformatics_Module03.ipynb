{
  "nbformat": 4,
  "nbformat_minor": 0,
  "metadata": {
    "colab": {
      "provenance": [],
      "authorship_tag": "ABX9TyNrlp9nV8fRxHvjoOiLcvHF",
      "include_colab_link": true
    },
    "kernelspec": {
      "name": "python3",
      "display_name": "Python 3"
    },
    "language_info": {
      "name": "python"
    }
  },
  "cells": [
    {
      "cell_type": "markdown",
      "metadata": {
        "id": "view-in-github",
        "colab_type": "text"
      },
      "source": [
        "<a href=\"https://colab.research.google.com/github/jb-bioinfo-acc/beginning-bioinformatics/blob/main/Bioinformatics_Module03.ipynb\" target=\"_parent\"><img src=\"https://colab.research.google.com/assets/colab-badge.svg\" alt=\"Open In Colab\"/></a>"
      ]
    },
    {
      "cell_type": "code",
      "execution_count": null,
      "metadata": {
        "colab": {
          "base_uri": "https://localhost:8080/"
        },
        "id": "C7nMgqzTAe0z",
        "outputId": "a9aeba1c-dae0-4854-f91f-7ca0e102f69f"
      },
      "outputs": [
        {
          "output_type": "stream",
          "name": "stdout",
          "text": [
            "hello world\n"
          ]
        }
      ],
      "source": [
        "print (\"hello world\")"
      ]
    },
    {
      "cell_type": "code",
      "source": [
        "name = input(\"Enter your name:\")\n",
        "print(\"Hello,\" + name)"
      ],
      "metadata": {
        "colab": {
          "base_uri": "https://localhost:8080/"
        },
        "id": "QravWZKXTs_Y",
        "outputId": "aa5daed8-7f3b-47d9-b874-6da0dd95d647"
      },
      "execution_count": 3,
      "outputs": [
        {
          "output_type": "stream",
          "name": "stdout",
          "text": [
            "Enter your name:Jada\n",
            "Hello,Jada\n"
          ]
        }
      ]
    },
    {
      "cell_type": "code",
      "source": [
        "x = 5"
      ],
      "metadata": {
        "id": "-rUX3JftDLPi"
      },
      "execution_count": null,
      "outputs": []
    },
    {
      "cell_type": "code",
      "metadata": {
        "colab": {
          "base_uri": "https://localhost:8080/"
        },
        "id": "06a1664d",
        "outputId": "72409ce6-3e88-4d00-c197-7b416ee78ee4"
      },
      "source": [
        "# Example 1: Simple assignment\n",
        "my_variable = 10\n",
        "print(my_variable)"
      ],
      "execution_count": null,
      "outputs": [
        {
          "output_type": "stream",
          "name": "stdout",
          "text": [
            "10\n"
          ]
        }
      ]
    },
    {
      "cell_type": "code",
      "metadata": {
        "colab": {
          "base_uri": "https://localhost:8080/"
        },
        "id": "088d23a9",
        "outputId": "e3f9abfa-a4fe-4070-d8fd-38556737c850"
      },
      "source": [
        "# Example 2: Assigning the result of an expression\n",
        "another_variable = 5 + 3\n",
        "print(another_variable)"
      ],
      "execution_count": null,
      "outputs": [
        {
          "output_type": "stream",
          "name": "stdout",
          "text": [
            "8\n"
          ]
        }
      ]
    },
    {
      "cell_type": "code",
      "metadata": {
        "colab": {
          "base_uri": "https://localhost:8080/"
        },
        "id": "510f9de3",
        "outputId": "cef99cf2-b213-4579-bc84-23716802fbe4"
      },
      "source": [
        "# Example 3: Assigning a string value\n",
        "text_variable = \"Hello, Colab!\"\n",
        "print(text_variable)"
      ],
      "execution_count": null,
      "outputs": [
        {
          "output_type": "stream",
          "name": "stdout",
          "text": [
            "Hello, Colab!\n"
          ]
        }
      ]
    },
    {
      "cell_type": "code",
      "metadata": {
        "colab": {
          "base_uri": "https://localhost:8080/"
        },
        "id": "9ced6ea4",
        "outputId": "d886b430-9d79-4cbf-a2ca-6e75af230b94"
      },
      "source": [
        "# Integer\n",
        "my_integer = 10\n",
        "print(f\"Integer: {my_integer}, Type: {type(my_integer)}\")"
      ],
      "execution_count": null,
      "outputs": [
        {
          "output_type": "stream",
          "name": "stdout",
          "text": [
            "Integer: 10, Type: <class 'int'>\n"
          ]
        }
      ]
    },
    {
      "cell_type": "code",
      "metadata": {
        "colab": {
          "base_uri": "https://localhost:8080/"
        },
        "id": "803d7a28",
        "outputId": "4b9ee1e0-e9d8-4968-87ae-7d83d2976490"
      },
      "source": [
        "# Float\n",
        "my_float = 10.5\n",
        "print(f\"Float: {my_float}, Type: {type(my_float)}\")"
      ],
      "execution_count": null,
      "outputs": [
        {
          "output_type": "stream",
          "name": "stdout",
          "text": [
            "Float: 10.5, Type: <class 'float'>\n"
          ]
        }
      ]
    },
    {
      "cell_type": "code",
      "metadata": {
        "colab": {
          "base_uri": "https://localhost:8080/"
        },
        "id": "f2c07ce8",
        "outputId": "d18eb14b-c017-4002-aa0e-1e76e6f952b2"
      },
      "source": [
        "# String\n",
        "my_string = \"Hello, Python!\"\n",
        "print(f\"String: {my_string}, Type: {type(my_string)}\")"
      ],
      "execution_count": null,
      "outputs": [
        {
          "output_type": "stream",
          "name": "stdout",
          "text": [
            "String: Hello, Python!, Type: <class 'str'>\n"
          ]
        }
      ]
    },
    {
      "cell_type": "code",
      "metadata": {
        "colab": {
          "base_uri": "https://localhost:8080/"
        },
        "id": "8171565e",
        "outputId": "b0271de9-7715-47fb-df67-cad24a3701b8"
      },
      "source": [
        "# Boolean\n",
        "my_boolean = True\n",
        "print(f\"Boolean: {my_boolean}, Type: {type(my_boolean)}\")"
      ],
      "execution_count": null,
      "outputs": [
        {
          "output_type": "stream",
          "name": "stdout",
          "text": [
            "Boolean: True, Type: <class 'bool'>\n"
          ]
        }
      ]
    },
    {
      "cell_type": "code",
      "metadata": {
        "colab": {
          "base_uri": "https://localhost:8080/"
        },
        "id": "afa956aa",
        "outputId": "18bcc6fd-9ae8-47d6-cb61-69496d9b4581"
      },
      "source": [
        "# List\n",
        "my_list = [1, 2, 3, \"four\", 5.0]\n",
        "print(f\"List: {my_list}, Type: {type(my_list)}\")"
      ],
      "execution_count": null,
      "outputs": [
        {
          "output_type": "stream",
          "name": "stdout",
          "text": [
            "List: [1, 2, 3, 'four', 5.0], Type: <class 'list'>\n"
          ]
        }
      ]
    },
    {
      "cell_type": "code",
      "metadata": {
        "colab": {
          "base_uri": "https://localhost:8080/"
        },
        "id": "1ffeb0d9",
        "outputId": "e922ad7f-0dcb-4d9c-cad7-9a1ff3f43723"
      },
      "source": [
        "# Tuple\n",
        "my_tuple = (10, 20, \"thirty\")\n",
        "print(f\"Tuple: {my_tuple}, Type: {type(my_tuple)}\")"
      ],
      "execution_count": null,
      "outputs": [
        {
          "output_type": "stream",
          "name": "stdout",
          "text": [
            "Tuple: (10, 20, 'thirty'), Type: <class 'tuple'>\n"
          ]
        }
      ]
    },
    {
      "cell_type": "code",
      "metadata": {
        "colab": {
          "base_uri": "https://localhost:8080/"
        },
        "id": "9afec0a2",
        "outputId": "d4ca059c-f4da-4095-aa04-202e211cec34"
      },
      "source": [
        "# Dictionary\n",
        "my_dictionary = {\"name\": \"Alice\", \"age\": 30}\n",
        "print(f\"Dictionary: {my_dictionary}, Type: {type(my_dictionary)}\")"
      ],
      "execution_count": null,
      "outputs": [
        {
          "output_type": "stream",
          "name": "stdout",
          "text": [
            "Dictionary: {'name': 'Alice', 'age': 30}, Type: <class 'dict'>\n"
          ]
        }
      ]
    },
    {
      "cell_type": "code",
      "metadata": {
        "colab": {
          "base_uri": "https://localhost:8080/"
        },
        "id": "ab67aa7c",
        "outputId": "88b2f489-1981-440e-e14a-321a14ccb7f8"
      },
      "source": [
        "# Set\n",
        "my_set = {1, 2, 3, 3, 4} # Note: Sets automatically remove duplicates\n",
        "print(f\"Set: {my_set}, Type: {type(my_set)}\")"
      ],
      "execution_count": null,
      "outputs": [
        {
          "output_type": "stream",
          "name": "stdout",
          "text": [
            "Set: {1, 2, 3, 4}, Type: <class 'set'>\n"
          ]
        }
      ]
    },
    {
      "cell_type": "code",
      "metadata": {
        "colab": {
          "base_uri": "https://localhost:8080/"
        },
        "id": "5956060a",
        "outputId": "b5a961dd-6c69-4bfe-ccef-e5333b7ea4c1"
      },
      "source": [
        "# Get the lengths of the legs a and b from user input\n",
        "try:\n",
        "  a = int(input(\"Enter the length of leg a (an integer less than 1000): \"))\n",
        "  b = int(input(\"Enter the length of leg b (an integer less than 1000): \"))\n",
        "\n",
        "  # Check if a and b are within the specified range\n",
        "  if 0 < a < 1000 and 0 < b < 1000:\n",
        "    # Calculate the square of the hypotenuse (c^2)\n",
        "    c_squared = a**2 + b**2\n",
        "\n",
        "    # Print the result\n",
        "    print(f\"The square of the hypotenuse is: {c_squared}\")\n",
        "  else:\n",
        "    print(\"Please ensure both a and b are positive integers less than 1000.\")\n",
        "\n",
        "except ValueError:\n",
        "  print(\"Invalid input. Please enter integers for the lengths.\")"
      ],
      "execution_count": 4,
      "outputs": [
        {
          "output_type": "stream",
          "name": "stdout",
          "text": [
            "Enter the length of leg a (an integer less than 1000): 978\n",
            "Enter the length of leg b (an integer less than 1000): 980\n",
            "The square of the hypotenuse is: 1916884\n"
          ]
        }
      ]
    },
    {
      "cell_type": "code",
      "source": [
        "# Substitute the item at index 1 in the list\n",
        "my_list[1]= \"World\"\n",
        "print(my_list)"
      ],
      "metadata": {
        "colab": {
          "base_uri": "https://localhost:8080/"
        },
        "id": "2i24rl6IVQ-1",
        "outputId": "4af62688-98ab-4bb5-df52-9ab48c05ca94"
      },
      "execution_count": 15,
      "outputs": [
        {
          "output_type": "stream",
          "name": "stdout",
          "text": [
            "['Hello', 'World', 'Alfred R. Wallace', 'Bioinformatics']\n"
          ]
        }
      ]
    },
    {
      "cell_type": "code",
      "source": [
        "# Add an item at index 1 in the list\n",
        "my_list[2]= \"Bioinformatics\"\n",
        "print(my_list)"
      ],
      "metadata": {
        "colab": {
          "base_uri": "https://localhost:8080/"
        },
        "id": "g37vgaVIVxug",
        "outputId": "1f96a8ca-9a19-4251-b67d-a04f64c01908"
      },
      "execution_count": 9,
      "outputs": [
        {
          "output_type": "stream",
          "name": "stdout",
          "text": [
            "['Hello', 'World', 'Bioinformatics']\n"
          ]
        }
      ]
    },
    {
      "cell_type": "code",
      "source": [
        "print(my_list)"
      ],
      "metadata": {
        "colab": {
          "base_uri": "https://localhost:8080/"
        },
        "id": "KKLqOCj_X2XT",
        "outputId": "b36c721e-6970-4d85-f321-60a41f53c167"
      },
      "execution_count": 14,
      "outputs": [
        {
          "output_type": "stream",
          "name": "stdout",
          "text": [
            "['Hello', 'Bioinformatics', 'Alfred R. Wallace', 'Bioinformatics']\n"
          ]
        }
      ]
    },
    {
      "cell_type": "code",
      "source": [
        "# Create a list with 3 elements and then print them\n",
        "\n",
        "my_list = [\"Hello\", \"World\", \"charles Darwin\"]\n",
        "print (my_list[1])"
      ],
      "metadata": {
        "colab": {
          "base_uri": "https://localhost:8080/"
        },
        "id": "OnzVN9lWUmqU",
        "outputId": "f86bc8ac-f502-4537-d2b4-9a8a3d093c6c"
      },
      "execution_count": 7,
      "outputs": [
        {
          "output_type": "stream",
          "name": "stdout",
          "text": [
            "World\n"
          ]
        }
      ]
    },
    {
      "cell_type": "code",
      "metadata": {
        "colab": {
          "base_uri": "https://localhost:8080/"
        },
        "id": "4157f166",
        "outputId": "22f8e809-1559-45b1-ce56-a7b85c3fd52f"
      },
      "source": [
        "# Insert an item at a specific index\n",
        "# For example, to insert \"Another Item\" at index 1:\n",
        "my_list.insert(1, \"Another Item\")\n",
        "print(my_list)"
      ],
      "execution_count": 10,
      "outputs": [
        {
          "output_type": "stream",
          "name": "stdout",
          "text": [
            "['Hello', 'Another Item', 'World', 'Bioinformatics']\n"
          ]
        }
      ]
    },
    {
      "cell_type": "code",
      "source": [
        "print(my_list[2:4])"
      ],
      "metadata": {
        "colab": {
          "base_uri": "https://localhost:8080/"
        },
        "id": "hvoQyYZiXL6Z",
        "outputId": "12a63b49-9177-4d15-9c51-65494637c199"
      },
      "execution_count": 13,
      "outputs": [
        {
          "output_type": "stream",
          "name": "stdout",
          "text": [
            "['Alfred R. Wallace', 'Bioinformatics']\n"
          ]
        }
      ]
    },
    {
      "cell_type": "markdown",
      "source": [],
      "metadata": {
        "id": "h_iDJu55Z8NF"
      }
    },
    {
      "cell_type": "code",
      "source": [
        "my_string = \"ZQnt4vhSCpAHQ4A89zx0jeU212xedTyVRubnRMyCiP9Ixjev0uhUrP4zFrgpHtULZdYPA4RemizUUe3GeZxoTsGhogmehelyimzfHVV82YN3r8Z90qm09JKMoxqPVVVa2iPulWzcBivnxvJKrV79JIrUVqbJiWRTY3Cp0i3\"\n",
        "print(my_string[70:75], my_string[74:91],my_string[90:96])"
      ],
      "metadata": {
        "colab": {
          "base_uri": "https://localhost:8080/"
        },
        "id": "quCOhVcqXjx_",
        "outputId": "d8e31579-2a7e-4728-84ef-39442e58c9a3"
      },
      "execution_count": 20,
      "outputs": [
        {
          "output_type": "stream",
          "name": "stdout",
          "text": [
            "Remiz zUUe3GeZxoTsGhogm mehely\n"
          ]
        }
      ]
    }
  ]
}